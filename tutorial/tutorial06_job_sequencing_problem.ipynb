{
  "cells": [
    {
      "cell_type": "markdown",
      "id": "00e11159",
      "metadata": {
        "id": "00e11159"
      },
      "source": [
        "## ジョブシーケンス問題\n",
        "計算時間が知られている$N$個のジョブをM個のコンピュータに処理させるときに、ジョブを各コンピュータに配分して、各コンピュータの実行時間を最小にする問題です。"
      ]
    },
    {
      "cell_type": "markdown",
      "id": "d4e33f8f",
      "metadata": {
        "id": "d4e33f8f"
      },
      "source": [
        "TAYTAN SDKのインストール"
      ]
    },
    {
      "cell_type": "code",
      "execution_count": null,
      "id": "225337df",
      "metadata": {
        "id": "225337df"
      },
      "outputs": [],
      "source": [
        "!pip install -q git+https://github.com/tytansdk/tytan.git"
      ]
    },
    {
      "cell_type": "code",
      "execution_count": null,
      "id": "90824380",
      "metadata": {
        "id": "90824380"
      },
      "outputs": [],
      "source": [
        "!pip install --quiet networkx matplotlib"
      ]
    },
    {
      "cell_type": "markdown",
      "id": "971cbecf",
      "metadata": {
        "id": "971cbecf"
      },
      "source": [
        "### 問題設定について\n",
        "コンピュータはN個あります。また、コンピュータの番号を指定する文字を$a$とします。\n",
        "ジョブはM個あり、ジョブを指定する文字を$i$とします。 $i$番目のジョブというような言い方を使います。  \n",
        "各ジョブの実行時間は$L_i$で表します。$i$はジョブの番号です。この$L_i$はあらかじめ知られているとします。  \n",
        "最適化したい変数は、$a$番目のコンピュータで$i$番目のジョブを行うときに1となり、  \n",
        "そうでないときに0となる変数$x_{a,i}$とします。\n",
        "\n",
        "問題は、各コンピューターの実行時間を最小化したいのですが、QUBO式で表現するために工夫が入ります。  \n",
        "問題を実行時間が最大のコンピュータの実行時間を最小化する問題として考え、 さらに、   \n",
        "1番目のコンピュータの実行時間が最大の時間になるとして、1番目のコンピュータの実行時間を最小化する問題に変換します.\n"
      ]
    },
    {
      "cell_type": "markdown",
      "id": "ceb7439e",
      "metadata": {
        "id": "ceb7439e"
      },
      "source": [
        "### QUBO式\n",
        "コスト関数について、説明します。  \n",
        "コスト関数は、大きく分けて4つの構成となります。\n",
        "\n",
        "1つ目は、1番目のコンピュータの実行時間です。  \n",
        "2つ目は、コンピュータ1が最大の実行時間となるコンピュータである条件です。  \n",
        "3つ目は、ジョブ$i$はただ一つのコンピュータでのみ実行される条件です。  \n",
        "4つ目は、2つ目の制約条件を満たすために追加する変数に関する制約条件です。  \n",
        "\n",
        "\n",
        "\n",
        "1つ目の、1番目のコンピュータの実行時間を定式化すると以下になります。\n",
        "$$\n",
        "H_A = \\sum_{i} L_i x_{1,i}\n",
        "$$\n",
        "\n",
        "2つ目は、コンピュータ1が最大の実行時間となるコンピュータである条件は、\n",
        "$$\n",
        "H_B =\\sum_{a=2} \\{ \\sum_n^M n y_{n,a} - \\sum_{i}( L_i x_{1,i} - L_i x_{a,i})\\}^2\n",
        "$$\n",
        "\n",
        "  \n",
        "ここで、補助変数$y_{n,a}$は、コンピュータ1とコンピュータ$a$の実行時間の差が$n$であるときに1、そうでない場合は0となる補助変数です。  \n",
        "定数$M$はノード1との実行時間の差の最大値で, 任意で決めるハイパーパラメータです。  \n",
        "\n",
        "\n",
        "3つ目は、ジョブ$i$はただ一つのコンピュータでのみ実行される条件\n",
        "$$\n",
        "H_C = \\sum_{i} (1 - \\sum_{a} x_{a,i})^2\n",
        "$$\n",
        "\n",
        "4つ目は、変数$y_{n,a}$がaに対してただ1つだけ1になる条件です。  \n",
        "また、変数の一つだけが1となる変数をone-hot変数といいます。  \n",
        "$$\n",
        "H_D = \\sum_{a} (1 - \\sum_{n} y_{n,a})^2\n",
        "$$\n"
      ]
    },
    {
      "cell_type": "markdown",
      "id": "4445e16d",
      "metadata": {
        "id": "4445e16d"
      },
      "source": [
        "## 問題設定\n",
        "$10$個のジョブがある.\n",
        "各ジョブの実行時間は,\n",
        "\n",
        "|ジョブ |  1   |  2   |  3   |  4   |  5   |  6   |  7   |  8   |  9   | 10   |\n",
        "| ----  | ---- | ---- | ---- | ---- | ---- | ---- | ---- | ---- | ---- | ---- |\n",
        "| 時間  |  1   |  2   |  3   |  4   |  5   |  6   |  7   |  8   |  9   | 10   |\n",
        "\n",
        "上記のジョブを3つのノードに分けて実行するときに, 最大実行時間のノードを最小化する.\n",
        "\n",
        "| COM|  1   |  2   |  3   |  4   | 合計 |\n",
        "| ----  | ---- | ---- | ---- | ---- | ---- |\n",
        "|COM1|  4   |  7   |  8   |  0   |  19  |\n",
        "|COM2|  1   |  2   |  5   |  10  |  18  |\n",
        "|COM3|  3   |  6   |  9   |  0   |  18  |"
      ]
    },
    {
      "cell_type": "code",
      "execution_count": 90,
      "id": "9354e6ac",
      "metadata": {
        "scrolled": true,
        "colab": {
          "base_uri": "https://localhost:8080/"
        },
        "id": "9354e6ac",
        "outputId": "68f57677-d3c7-432b-ce03-093214b37c1e"
      },
      "outputs": [
        {
          "output_type": "stream",
          "name": "stdout",
          "text": [
            "Cost = 19.0000000000000\n",
            "[1. 0. 1. 0. 1. 0. 0. 0. 0. 1. 0. 0. 0. 1. 0. 1. 0. 1. 0. 0. 0. 1. 0. 0.\n",
            " 0. 0. 1. 0. 1. 0. 0. 1. 0. 0. 0. 0. 1. 0. 0. 0.]\n",
            "コンピュータ1 [1. 0. 1. 0. 1. 0. 0. 0. 0. 1.] 19.0\n",
            "コンピュータ2 [0. 0. 0. 1. 0. 1. 0. 1. 0. 0.] 18.0\n",
            "コンピュータ3 [0. 1. 0. 0. 0. 0. 1. 0. 1. 0.] 18.0\n",
            "onehot1 [0. 1. 0. 0. 0.]\n",
            "onehot2 [0. 1. 0. 0. 0.]\n",
            "制約B 2.0\n"
          ]
        }
      ],
      "source": [
        "import numpy as np\n",
        "import sympy as sym\n",
        "from tytan import symbols, Compile, sampler\n",
        "\n",
        "#40量子ビット\n",
        "J=10 #ジョブの数\n",
        "N=3  #コンピュータの数\n",
        "M=5  #最大実行時間の差 #5であれば差が0,1,2,3,4のどれかということ\n",
        "\n",
        "#量子ビットJ*N=30\n",
        "#one hot用の量子ビット (N-1)*M=10\n",
        "q = symbols(\"q_{0:40}\") # qubo\n",
        "\n",
        "#ジョブの実行時間\n",
        "L=np.array([1, 2, 3, 4, 5, 6, 7, 8, 9, 10])\n",
        "\n",
        "\n",
        "#式A 1番目のCOMの実行時間\n",
        "HA=0\n",
        "for i in range(J):#ジョブ数\n",
        "    HA += L[i]*q[i]\n",
        "\n",
        "#式B\n",
        "HB=0\n",
        "for a in range(1,N): #コンピュータ数\n",
        "    tmp=0\n",
        "    for n in range(M):#最大実行時間\n",
        "        tmp += n*q[J*N+(a-1)*M+n]\n",
        "\n",
        "    for i in range(J):#ジョブ数\n",
        "        tmp += -L[i]*(q[i]-q[a*J+i])\n",
        "    HB += tmp**2\n",
        "\n",
        "#式C onehot\n",
        "HC=0\n",
        "for i in range(J):#ジョブ数\n",
        "    tmp=0\n",
        "    for a in range(N):#コンピュータ数\n",
        "        tmp += q[a*J+i]\n",
        "    HC += (1-tmp)**2\n",
        "\n",
        "#式D onehot\n",
        "HD=0\n",
        "for i in range(N-1):#コンピュータ数\n",
        "    tmp=0\n",
        "    for a in range(M):\n",
        "        tmp += q[J*N+i*M+a]\n",
        "    HD += (1-tmp)**2\n",
        "\n",
        "#式をつなげる\n",
        "H = 1*HA + 10*HB + 10*HC + 10*HD\n",
        "\n",
        "# Compileクラスを使用して、QUBOを取得\n",
        "Q, offset = Compile(H).get_qubo()\n",
        "\n",
        "#print(Q)\n",
        "\n",
        "# サンプラーを選択\n",
        "solver = sampler.SASampler()\n",
        "\n",
        "#クラウドサンプラーの場合\n",
        "#API_KEY = \"KjGh2i75pUNXvihIMgNiQfMAQmbU8iVe01tjStnYJWMb8AS1SSys3SPpMN_q_8gl\"\n",
        "#solver = sampler.NQSSampler()\n",
        "#result = solver.run(Q, api_key=API_KEY)\n",
        "\n",
        "# 計算\n",
        "result = solver.run(Q, shots=1000)\n",
        "\n",
        "#print(\"Sample =\", result[0][0])\n",
        "print(\"Cost =\", result[0][1] + offset)\n",
        "\n",
        "#量子ビットの取り出し\n",
        "qbit=np.zeros(40)\n",
        "i=0\n",
        "for key, value in result[0][0].items():\n",
        "    key=key.replace('q_{', '')\n",
        "    key=key.replace('}', '')\n",
        "    qbit[int(key)]=value\n",
        "    i=i+1\n",
        "print(qbit)\n",
        "print('コンピュータ1',qbit[0:10], np.sum(L*qbit[0:10]))\n",
        "print('コンピュータ2',qbit[10:20], np.sum(L*qbit[10:20]))\n",
        "print('コンピュータ3',qbit[20:30], np.sum(L*qbit[20:30]))\n",
        "\n",
        "print('onehot1',qbit[30:35])\n",
        "print('onehot2',qbit[35:40])\n",
        "#制約条件\n",
        "B=0\n",
        "for a in range(1,N): #コンピュータ数\n",
        "    tmp=0\n",
        "    for n in range(M):#最大実行時間\n",
        "        tmp += (n+1)*qbit[J*N+(a-1)*M+n]\n",
        "\n",
        "    for i in range(J):#ジョブ数\n",
        "        tmp += -L[i]*(qbit[i]-qbit[a*J+i])\n",
        "    B += tmp\n",
        "print('制約B',B)"
      ]
    },
    {
      "cell_type": "markdown",
      "source": [
        "[19, 18, 18] と [19, 19, 17] が同じエネルギーで得られます（ランダムに）"
      ],
      "metadata": {
        "id": "J3whNuQMSFyG"
      },
      "id": "J3whNuQMSFyG"
    },
    {
      "cell_type": "code",
      "execution_count": null,
      "id": "b839f3c9",
      "metadata": {
        "scrolled": true,
        "id": "b839f3c9",
        "outputId": "73fa7c67-af3d-454e-ce32-e61969133a96"
      },
      "outputs": [
        {
          "name": "stdout",
          "output_type": "stream",
          "text": [
            "Cost = -42.0\n",
            "Break = {}\n",
            "[1. 0. 1. 0. 0. 0. 1. 0. 0. 1. 0. 1. 0. 0. 0. 1. 0. 0. 1. 0. 0. 0. 0. 1.\n",
            " 1. 0. 0. 1. 0. 0. 0. 0. 0. 1. 0. 0. 0. 0. 1. 0.]\n",
            "コンピュータ1 [1. 0. 1. 0. 0. 0. 1. 0. 0. 1.]\n",
            "コンピュータ2 [0. 1. 0. 0. 0. 1. 0. 0. 1. 0.]\n",
            "コンピュータ3 [0. 0. 0. 1. 1. 0. 0. 1. 0. 0.]\n",
            "onehot1 [0. 0. 0. 1. 0.]\n",
            "onehot2 [0. 0. 0. 1. 0.]\n",
            "制約B 0.0\n"
          ]
        }
      ],
      "source": [
        "# D-wave シュミレーション例\n",
        "import numpy as np\n",
        "import sympy as sym\n",
        "#from tytan import *\n",
        "from pyqubo import Array, Constraint\n",
        "import neal\n",
        "q = Array.create('q', shape=40, vartype='BINARY')\n",
        "\n",
        "#今回は4量子ビットのみ\n",
        "J=10 #ジョブの数\n",
        "N=3  #コンピュータの数\n",
        "M=5  #最大実行時間の差\n",
        "\n",
        "#量子ビットJ*N\n",
        "#one hot用の量子ビット (N-1)*M=6\n",
        "#q = sym.symbols(\"q_{0:36}\") # qubo\n",
        "\n",
        "#ジョブの実行時間\n",
        "L=np.array([1, 2, 3, 4, 5, 6, 7, 8, 9, 10])\n",
        "\n",
        "\n",
        "#式A 1番目のCOMの実行時間\n",
        "HA=0\n",
        "for i in range(J):#ジョブ数\n",
        "    HA += -L[i]*q[i]\n",
        "\n",
        "#式B\n",
        "HB=0\n",
        "for a in range(1,N): #コンピュータ数\n",
        "    tmp=0\n",
        "    for n in range(M):#最大実行時間\n",
        "        tmp += (n+1)*q[J*N+(a-1)*M+n]\n",
        "\n",
        "    for i in range(J):#ジョブ数\n",
        "        tmp += -L[i]*(q[i]-q[a*J+i])\n",
        "    HB += tmp**2\n",
        "\n",
        "#式C\n",
        "HC=0\n",
        "for i in range(J):#ジョブ数\n",
        "    tmp=0\n",
        "    for a in range(N):#コンピュータ数\n",
        "        tmp += q[a*J+i]\n",
        "    HC += (1-tmp)**2\n",
        "\n",
        "\n",
        "#式D onehot\n",
        "HD=0\n",
        "for i in range(N-1):#コンピュータ数\n",
        "    tmp=0\n",
        "    for a in range(M):\n",
        "        tmp += q[J*N+i*M+a]\n",
        "    HD += (1-tmp)**2\n",
        "\n",
        "#式をつなげる\n",
        "H = 2*HA+2*Constraint(HB,'HB')+7*Constraint(HC,'HC')+3*Constraint(HD,'HD')\n",
        "\n",
        "#D-Waveの形式に変換\n",
        "model = H.compile()\n",
        "bqm = model.to_bqm()\n",
        "\n",
        "#計算実行\n",
        "sa = neal.SimulatedAnnealingSampler()\n",
        "sampleset = sa.sample(bqm, num_reads=10)\n",
        "#print(sampleset)\n",
        "\n",
        "decoded_samples = model.decode_sampleset(sampleset)\n",
        "best_sample = min(decoded_samples, key=lambda x: x.energy)\n",
        "#print(\"Sample =\", best_sample.sample)\n",
        "print(\"Cost =\", best_sample.energy)\n",
        "print(\"Break =\", best_sample.constraints(only_broken=True))\n",
        "\n",
        "#量子ビットの取り出し\n",
        "qbit=np.zeros(40)\n",
        "i=0\n",
        "for key, value in best_sample.sample.items():\n",
        "    key=key.replace('q[', '')\n",
        "    key=key.replace(']', '')\n",
        "    qbit[int(key)]=value\n",
        "    i=i+1\n",
        "\n",
        "print(qbit)\n",
        "print('コンピュータ1',qbit[0:10])\n",
        "print('コンピュータ2',qbit[10:20])\n",
        "print('コンピュータ3',qbit[20:30])\n",
        "\n",
        "print('onehot1',qbit[30:35])\n",
        "print('onehot2',qbit[35:40])\n",
        "\n",
        "#制約条件\n",
        "B=0\n",
        "for a in range(1,N): #コンピュータ数\n",
        "    tmp=0\n",
        "    for n in range(M):#最大実行時間\n",
        "        tmp += (n+1)*qbit[J*N+(a-1)*M+n]\n",
        "\n",
        "    for i in range(J):#ジョブ数\n",
        "        tmp += -L[i]*(qbit[i]-qbit[a*J+i])\n",
        "    B += tmp\n",
        "print('制約B',B)"
      ]
    },
    {
      "cell_type": "markdown",
      "id": "035842f4",
      "metadata": {
        "id": "035842f4"
      },
      "source": [
        "コンピューター1 = {1,3,7,10} 実行時間21  \n",
        "コンピューター2 = {2,6,9} 　 実行時間17  \n",
        "コンピューター3 = {4,5,8}    実行時間17  "
      ]
    },
    {
      "cell_type": "markdown",
      "id": "b93db51d",
      "metadata": {
        "id": "b93db51d"
      },
      "source": [
        "## ナップザック問題\n",
        "価値が分かっている$N$個の荷物があります. この荷物をナップザックの最大容量$W$を超えない範囲で入れるときに, 価値の合計を最大化する組み合わせを探す問題です.\n",
        "\n",
        "| 荷物 |  1   |  2   |  3   |  4   |  5   |\n",
        "| ---- | ---- | ---- | ---- | ---- | ---- |\n",
        "| 重さ |  4   |  7   |  1   |  3   |  5   |\n",
        "| 価値 |  10  |  13  |  7   |  9   |  8   |\n",
        "\n",
        "ナップザックの最大容量が10のとき,\n",
        "荷物1,3,4を入れると容量が8で価値26となります.\n",
        "総当たりで探索すると$2^N$回の探索が必要になります. (NP困難)"
      ]
    },
    {
      "cell_type": "markdown",
      "id": "03a84ebe",
      "metadata": {
        "id": "03a84ebe"
      },
      "source": [
        "### QUBO式\n",
        "\n",
        "$i$番目の荷物をナップザックに入れる場合は, $x_i=1$, 入れない場合は, $x_i=0$とします.\n",
        "\n",
        "$i$番目の荷物の容量を$w_i$, 荷物の価値を$c_i$とします.\n",
        "\n",
        "ナップザックに入れる荷物の価値を最大化したいので, QUBOコスト関数は,\n",
        "$$\n",
        "H_A = -\\sum^N_{i=1} c_i x_i\n",
        "$$\n",
        "です.\n",
        "\n",
        "QUBO式にマイナスがついているのは, QUBO関数は最小に向かうために, 関数を最大化したいときにはマイナスを付けます.\n",
        "\n",
        "制約式は, ナップザックに入れる荷物が総体積以下になる条件\n",
        "$$\n",
        "\\sum^N_{i=1} w_i x_i < W\n",
        "$$\n",
        "ですが, QUBO式は不等式を扱えません.\n",
        "\n",
        "そのために補助バイナリ変数$y_n$を導入します.\n",
        "$y_n$はナップザックに入れる荷物の容量の合計が, $n$のときに$y_n=1$となる変数です.\n",
        "ナップザックの最大容量は$W$なので$n$は0から$N$までの値を取ります.\n",
        "\n",
        "$y_n$は荷物の容量の合計値なので, $N$個ある$y_n$はただ1つのみ1になる制約があります.\n",
        "制約式を書くと,\n",
        "\n",
        "$$\n",
        "H_B = (1-\\sum^W_{n=1} y_n)^2\n",
        "$$\n",
        "\n",
        "$y_n=1$になるときに, ナップザックの荷物の容量の合計$ \\sum^N_{i=1} w_i x_i = n$になるような条件式を追加します.\n",
        "$$\n",
        "H_C = (\\sum^W_{n=1}n y_n -  \\sum^N_{i=1} w_i x_i)^2\n",
        "$$\n",
        "変数$y_{n,a}$がaに対してただ1つだけ1になる条件です。  \n",
        "また、変数の一つだけが1となる変数をone-hot変数といいます。  \n"
      ]
    },
    {
      "cell_type": "markdown",
      "id": "bba715f4",
      "metadata": {
        "id": "bba715f4"
      },
      "source": [
        "## 問題設定\n",
        "\n",
        "ナップザックの最大容量$W=12$のとき, 以下の$N=5$個の荷物を考えます.\n",
        "\n",
        "| 荷物 |  1   |  2   |  3   |  4   |  5   |\n",
        "| ---- | ---- | ---- | ---- | ---- | ---- |\n",
        "| 重さ |  3   |  4   |  6   |  1   |  5   |\n",
        "| 価値 |  6   |  7   |  8   |  1   |  4   |\n",
        "\n",
        "必要なビット変数は, $N+W=5+12=17$"
      ]
    },
    {
      "cell_type": "code",
      "execution_count": null,
      "id": "b696f0ff",
      "metadata": {
        "id": "b696f0ff",
        "outputId": "4080f53a-fd62-4581-9074-7141747aea9e"
      },
      "outputs": [
        {
          "name": "stdout",
          "output_type": "stream",
          "text": [
            "Cost = -2.0\n",
            "q= [1. 1. 0. 0. 1.]\n",
            "重さ 12.0\n",
            "コスト 17.0\n",
            "onehot= [0. 0. 0. 0. 0. 0. 0. 0. 0. 0. 0. 1.]\n"
          ]
        }
      ],
      "source": [
        "import numpy as np\n",
        "from tytan import *\n",
        "import sympy as sym\n",
        "\n",
        "#17量子ビットのみ\n",
        "N=5\n",
        "W=12\n",
        "\n",
        "M=N+W\n",
        "q = sym.symbols(\"q_{0:17}\")\n",
        "\n",
        "#重さ\n",
        "w=np.array([3, 4, 6, 1, 5])\n",
        "\n",
        "#価値\n",
        "c=np.array([6 ,7, 8, 1, 4])\n",
        "\n",
        "#式A\n",
        "HA=0\n",
        "for i in range(N):\n",
        "    HA += -c[i]*q[i]\n",
        "\n",
        "#式B\n",
        "HB=0\n",
        "for i in range(N,N+W):\n",
        "    HB +=q[i]\n",
        "HB = HB**2\n",
        "\n",
        "#式C\n",
        "HC=0\n",
        "for i in range(N,N+W):\n",
        "    HC += (i-4)*q[i]\n",
        "for j in range(N):\n",
        "    HC += -w[j]*q[j]\n",
        "\n",
        "HC=(HC)**2\n",
        "\n",
        "\n",
        "#式をつなげる\n",
        "H = 1*HA+15*HB+7*HC\n",
        "\n",
        "# Compileクラスを使用して、QUBOを取得\n",
        "Q, offset = qubo.Compile(H).get_qubo()\n",
        "\n",
        "#print(Q)\n",
        "\n",
        "# サンプラーを選択\n",
        "solver = sampler.SASampler()\n",
        "\n",
        "#クラウドサンプラーの場合\n",
        "#API_KEY = \"KjGh2i75pUNXvihIMgNiQfMAQmbU8iVe01tjStnYJWMb8AS1SSys3SPpMN_q_8gl\"\n",
        "#solver = sampler.NQSSampler()\n",
        "#result = solver.run(Q, api_key=API_KEY)\n",
        "\n",
        "# 計算\n",
        "result = solver.run(Q, shots=1000)\n",
        "\n",
        "#print(\"Sample =\", result[0][0])\n",
        "print(\"Cost =\", result[0][1] + offset)\n",
        "\n",
        "#量子ビットの取り出し\n",
        "qbit=np.zeros(40)\n",
        "i=0\n",
        "for key, value in result[0][0].items():\n",
        "    key=key.replace('q_{', '')\n",
        "    key=key.replace('}', '')\n",
        "    qbit[int(key)]=value\n",
        "    i=i+1\n",
        "print('q=',qbit[0:N])\n",
        "print('重さ',w[0]*qbit[0]+w[1]*qbit[1]+w[2]*qbit[2]+w[3]*qbit[3]+w[4]*qbit[4])\n",
        "print('コスト',c[0]*qbit[0]+c[1]*qbit[1]+c[2]*qbit[2]+c[3]*qbit[3]+c[4]*qbit[4])\n",
        "print('onehot=',qbit[N:N+W])"
      ]
    },
    {
      "cell_type": "code",
      "execution_count": null,
      "id": "f3b0564b",
      "metadata": {
        "id": "f3b0564b"
      },
      "outputs": [],
      "source": [
        " 荷物1,2,5を入れるときに制約を満たす結果が得られました。その時の価値は17となっています。"
      ]
    },
    {
      "cell_type": "code",
      "execution_count": null,
      "id": "44628408",
      "metadata": {
        "id": "44628408",
        "outputId": "a39494f1-c61c-468b-8768-441afe6feac5"
      },
      "outputs": [
        {
          "name": "stdout",
          "output_type": "stream",
          "text": [
            "Cost = -15.0\n",
            "Break = {}\n",
            "q= [1. 0. 1. 1. 0.]\n",
            "重さ 10.0\n",
            "コスト 15.0\n",
            "onehot= [0. 0. 0. 0. 0. 0. 0. 0. 0. 1. 0. 0.]\n"
          ]
        }
      ],
      "source": [
        "# D-WAVEシュミレータ\n",
        "import numpy as np\n",
        "from tytan import *\n",
        "import sympy as sym\n",
        "from pyqubo import Array, Constraint\n",
        "import neal\n",
        "\n",
        "#17量子ビット\n",
        "N=5\n",
        "W=12\n",
        "\n",
        "M=N+W\n",
        "q = Array.create('q', shape=17, vartype='BINARY')\n",
        "#重さ\n",
        "w=np.array([3, 4, 6, 1, 5])\n",
        "\n",
        "#価値\n",
        "c=np.array([6 ,7, 8, 1, 4])\n",
        "\n",
        "#式A\n",
        "HA=0\n",
        "for i in range(N):\n",
        "    HA += -c[i]*q[i]\n",
        "\n",
        "#式B\n",
        "HB=0\n",
        "for i in range(N,N+W):\n",
        "    HB +=q[i]\n",
        "HB = (HB-1)**2\n",
        "\n",
        "#式C\n",
        "HC=0\n",
        "for i in range(N,N+W):\n",
        "    HC += (i-4)*q[i]\n",
        "for j in range(N):\n",
        "    HC += -w[j]*q[j]\n",
        "\n",
        "HC=(HC)**2\n",
        "\n",
        "\n",
        "#式をつなげる\n",
        "H = 1*HA+15*Constraint(HB,'HB')+7*Constraint(HC,'HC')\n",
        "\n",
        "#D-Waveの形式に変換\n",
        "model = H.compile()\n",
        "bqm = model.to_bqm()\n",
        "\n",
        "#計算実行\n",
        "sa = neal.SimulatedAnnealingSampler()\n",
        "sampleset = sa.sample(bqm, num_reads=10)\n",
        "#print(sampleset)\n",
        "\n",
        "decoded_samples = model.decode_sampleset(sampleset)\n",
        "best_sample = min(decoded_samples, key=lambda x: x.energy)\n",
        "#print(\"Sample =\", best_sample.sample)\n",
        "print(\"Cost =\", best_sample.energy)\n",
        "print(\"Break =\", best_sample.constraints(only_broken=True))\n",
        "\n",
        "#量子ビットの取り出し\n",
        "qbit=np.zeros(40)\n",
        "i=0\n",
        "for key, value in best_sample.sample.items():\n",
        "    key=key.replace('q[', '')\n",
        "    key=key.replace(']', '')\n",
        "    qbit[int(key)]=value\n",
        "    i=i+1\n",
        "print('q=',qbit[0:N])\n",
        "print('重さ',w[0]*qbit[0]+w[1]*qbit[1]+w[2]*qbit[2]+w[3]*qbit[3]+w[4]*qbit[4])\n",
        "print('コスト',c[0]*qbit[0]+c[1]*qbit[1]+c[2]*qbit[2]+c[3]*qbit[3]+c[4]*qbit[4])\n",
        "print('onehot=',qbit[N:N+W])"
      ]
    },
    {
      "cell_type": "markdown",
      "id": "1e697797",
      "metadata": {
        "id": "1e697797"
      },
      "source": [
        " 荷物1,3,4を入れるときに制約を満たす結果が得られました。そのときの価値は15となりました。"
      ]
    },
    {
      "cell_type": "code",
      "execution_count": null,
      "id": "12db1bf0",
      "metadata": {
        "id": "12db1bf0"
      },
      "outputs": [],
      "source": []
    }
  ],
  "metadata": {
    "kernelspec": {
      "display_name": "Python 3 (ipykernel)",
      "language": "python",
      "name": "python3"
    },
    "language_info": {
      "codemirror_mode": {
        "name": "ipython",
        "version": 3
      },
      "file_extension": ".py",
      "mimetype": "text/x-python",
      "name": "python",
      "nbconvert_exporter": "python",
      "pygments_lexer": "ipython3",
      "version": "3.10.9"
    },
    "colab": {
      "provenance": []
    }
  },
  "nbformat": 4,
  "nbformat_minor": 5
}